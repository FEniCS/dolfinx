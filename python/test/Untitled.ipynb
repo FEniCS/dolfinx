{
 "cells": [
  {
   "cell_type": "code",
   "execution_count": 2,
   "id": "9142a7b7-f65b-4e6f-9d9a-8b69799b7970",
   "metadata": {},
   "outputs": [],
   "source": [
    "run conftest.py"
   ]
  },
  {
   "cell_type": "code",
   "execution_count": null,
   "id": "2b647b42-6648-4ea5-a437-02d9e9f42ebc",
   "metadata": {},
   "outputs": [],
   "source": []
  },
  {
   "cell_type": "code",
   "execution_count": null,
   "id": "52731a47-77f7-46cc-80e6-2bfd6d74b71f",
   "metadata": {},
   "outputs": [],
   "source": []
  }
 ],
 "metadata": {
  "kernelspec": {
   "display_name": "fenicsx-env",
   "language": "python",
   "name": "my_env"
  },
  "language_info": {
   "codemirror_mode": {
    "name": "ipython",
    "version": 3
   },
   "file_extension": ".py",
   "mimetype": "text/x-python",
   "name": "python",
   "nbconvert_exporter": "python",
   "pygments_lexer": "ipython3",
   "version": "3.10.14"
  }
 },
 "nbformat": 4,
 "nbformat_minor": 5
}
