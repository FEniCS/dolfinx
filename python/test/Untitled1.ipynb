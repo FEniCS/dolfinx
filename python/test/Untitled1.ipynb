{
 "cells": [
  {
   "cell_type": "code",
   "execution_count": 1,
   "id": "7327f2ba-8e10-4ab8-8858-8316e40551bb",
   "metadata": {},
   "outputs": [],
   "source": [
    "run conftest.py"
   ]
  },
  {
   "cell_type": "code",
   "execution_count": null,
   "id": "dd297d60-e848-469f-8cb6-5be5839614bb",
   "metadata": {},
   "outputs": [],
   "source": []
  }
 ],
 "metadata": {
  "kernelspec": {
   "display_name": "Python 3 (ipykernel)",
   "language": "python",
   "name": "python3"
  },
  "language_info": {
   "codemirror_mode": {
    "name": "ipython",
    "version": 3
   },
   "file_extension": ".py",
   "mimetype": "text/x-python",
   "name": "python",
   "nbconvert_exporter": "python",
   "pygments_lexer": "ipython3",
   "version": "3.10.14"
  }
 },
 "nbformat": 4,
 "nbformat_minor": 5
}
